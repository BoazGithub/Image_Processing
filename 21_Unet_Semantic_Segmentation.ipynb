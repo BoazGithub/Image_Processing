{
  "nbformat": 4,
  "nbformat_minor": 0,
  "metadata": {
    "colab": {
      "name": "Copy of Unet_Segmentation.ipynb",
      "provenance": [],
      "collapsed_sections": [],
      "machine_shape": "hm",
      "include_colab_link": true
    },
    "kernelspec": {
      "name": "python3",
      "display_name": "Python 3"
    },
    "accelerator": "GPU"
  },
  "cells": [
    {
      "cell_type": "markdown",
      "metadata": {
        "id": "view-in-github",
        "colab_type": "text"
      },
      "source": [
        "<a href=\"https://colab.research.google.com/github/Gedeon-m-gedus/Image_Processing/blob/master/21_Unet_Semantic_Segmentation.ipynb\" target=\"_parent\"><img src=\"https://colab.research.google.com/assets/colab-badge.svg\" alt=\"Open In Colab\"/></a>"
      ]
    },
    {
      "cell_type": "code",
      "metadata": {
        "colab": {
          "base_uri": "https://localhost:8080/"
        },
        "id": "44sQRpA2j-3b",
        "outputId": "58186ba4-45e3-4ee5-e8b9-0029b470eaad"
      },
      "source": [
        "from google.colab import drive\n",
        "drive.mount('/content/drive')"
      ],
      "execution_count": 17,
      "outputs": [
        {
          "output_type": "stream",
          "text": [
            "Drive already mounted at /content/drive; to attempt to forcibly remount, call drive.mount(\"/content/drive\", force_remount=True).\n"
          ],
          "name": "stdout"
        }
      ]
    },
    {
      "cell_type": "code",
      "metadata": {
        "id": "dwof_LDFn1in"
      },
      "source": [
        "import time\r\n",
        "from tqdm import tqdm\r\n",
        "\r\n",
        "\r\n",
        "from pathlib import Path\r\n",
        "\r\n",
        "import os\r\n",
        "import re\r\n",
        "import numpy as np\r\n",
        "import pandas as pd\r\n",
        "import matplotlib.pyplot as plt\r\n",
        "\r\n",
        "import cv2\r\n",
        "from tqdm import tqdm\r\n",
        "from glob import glob\r\n",
        "from PIL import Image\r\n",
        "from skimage.transform import resize\r\n",
        "from sklearn.model_selection import train_test_split, KFold\r\n",
        "\r\n",
        "import shutil\r\n",
        "\r\n",
        "import torch\r\n",
        "from torch.utils.data import DataLoader,Dataset\r\n",
        "import torch.nn as nn\r\n",
        "import albumentations\r\n",
        "import torchvision \r\n",
        "from torchvision import transforms, models\r\n",
        "\r\n",
        "import random\r\n",
        "from skimage import io,transform\r\n",
        "from PIL import Image\r\n",
        "\r\n",
        "import warnings \r\n",
        "\r\n",
        "warnings.filterwarnings(\"ignore\")"
      ],
      "execution_count": 18,
      "outputs": []
    },
    {
      "cell_type": "code",
      "metadata": {
        "id": "Zci2T-O6j9iS"
      },
      "source": [
        ""
      ],
      "execution_count": null,
      "outputs": []
    },
    {
      "cell_type": "code",
      "metadata": {
        "colab": {
          "base_uri": "https://localhost:8080/"
        },
        "id": "-y8-HiqUaZNm",
        "outputId": "a8f24742-76de-44cb-e5fa-85863cdfd248"
      },
      "source": [
        "!pip install imagecodecs"
      ],
      "execution_count": 43,
      "outputs": [
        {
          "output_type": "stream",
          "text": [
            "Requirement already satisfied: imagecodecs in /usr/local/lib/python3.6/dist-packages (2020.5.30)\n",
            "Requirement already satisfied: numpy>=1.15.1 in /usr/local/lib/python3.6/dist-packages (from imagecodecs) (1.19.5)\n"
          ],
          "name": "stdout"
        }
      ]
    },
    {
      "cell_type": "code",
      "metadata": {
        "id": "gpmxKFVSIiOH"
      },
      "source": [
        "device = torch.device('cuda:0' if torch.cuda.is_available() else 'cpu')"
      ],
      "execution_count": 19,
      "outputs": []
    },
    {
      "cell_type": "code",
      "metadata": {
        "id": "VI1sb42xsDcl"
      },
      "source": [
        "ROOT = Path(\"/content/drive/MyDrive/IRCAD\")\r\n",
        "#ROOT = Path(\"/content/drive/Shareddrives/IRCAD\")\r\n",
        "\r\n",
        "train_image_path = ROOT / \"train\"\r\n",
        "train_mask_path = ROOT / \"train\"\r\n",
        "test_image_path = ROOT / \"test\"\r\n",
        "\r\n",
        "ALL_MASKS =[os.path.join(train_mask_path,i) for i in os.listdir(train_mask_path) if \"mask\" in i]\r\n",
        "len(ALL_MASKS)\r\n",
        "ALL_IMAGES = [i.replace(\"_mask\",\"\") for i in ALL_MASKS]\r\n",
        "len(ALL_IMAGES)"
      ],
      "execution_count": 20,
      "outputs": []
    },
    {
      "cell_type": "code",
      "metadata": {
        "colab": {
          "base_uri": "https://localhost:8080/",
          "height": 402
        },
        "id": "qXgK3AW-CY5V",
        "outputId": "60f435db-e9d8-4a0a-c7e0-271c2a71e055"
      },
      "source": [
        "\n",
        "df = pd.DataFrame({\"Image\":ALL_IMAGES,\"Mask\":ALL_MASKS})\n",
        "df"
      ],
      "execution_count": 22,
      "outputs": [
        {
          "output_type": "execute_result",
          "data": {
            "text/html": [
              "<div>\n",
              "<style scoped>\n",
              "    .dataframe tbody tr th:only-of-type {\n",
              "        vertical-align: middle;\n",
              "    }\n",
              "\n",
              "    .dataframe tbody tr th {\n",
              "        vertical-align: top;\n",
              "    }\n",
              "\n",
              "    .dataframe thead th {\n",
              "        text-align: right;\n",
              "    }\n",
              "</style>\n",
              "<table border=\"1\" class=\"dataframe\">\n",
              "  <thead>\n",
              "    <tr style=\"text-align: right;\">\n",
              "      <th></th>\n",
              "      <th>Image</th>\n",
              "      <th>Mask</th>\n",
              "    </tr>\n",
              "  </thead>\n",
              "  <tbody>\n",
              "    <tr>\n",
              "      <th>0</th>\n",
              "      <td>/content/drive/MyDrive/IRCAD/train/6_21.tif</td>\n",
              "      <td>/content/drive/MyDrive/IRCAD/train/6_21_mask.tif</td>\n",
              "    </tr>\n",
              "    <tr>\n",
              "      <th>1</th>\n",
              "      <td>/content/drive/MyDrive/IRCAD/train/5_97.tif</td>\n",
              "      <td>/content/drive/MyDrive/IRCAD/train/5_97_mask.tif</td>\n",
              "    </tr>\n",
              "    <tr>\n",
              "      <th>2</th>\n",
              "      <td>/content/drive/MyDrive/IRCAD/train/5_82.tif</td>\n",
              "      <td>/content/drive/MyDrive/IRCAD/train/5_82_mask.tif</td>\n",
              "    </tr>\n",
              "    <tr>\n",
              "      <th>3</th>\n",
              "      <td>/content/drive/MyDrive/IRCAD/train/5_77.tif</td>\n",
              "      <td>/content/drive/MyDrive/IRCAD/train/5_77_mask.tif</td>\n",
              "    </tr>\n",
              "    <tr>\n",
              "      <th>4</th>\n",
              "      <td>/content/drive/MyDrive/IRCAD/train/5_87.tif</td>\n",
              "      <td>/content/drive/MyDrive/IRCAD/train/5_87_mask.tif</td>\n",
              "    </tr>\n",
              "    <tr>\n",
              "      <th>...</th>\n",
              "      <td>...</td>\n",
              "      <td>...</td>\n",
              "    </tr>\n",
              "    <tr>\n",
              "      <th>5630</th>\n",
              "      <td>/content/drive/MyDrive/IRCAD/train/11_60.tif</td>\n",
              "      <td>/content/drive/MyDrive/IRCAD/train/11_60_mask.tif</td>\n",
              "    </tr>\n",
              "    <tr>\n",
              "      <th>5631</th>\n",
              "      <td>/content/drive/MyDrive/IRCAD/train/11_55.tif</td>\n",
              "      <td>/content/drive/MyDrive/IRCAD/train/11_55_mask.tif</td>\n",
              "    </tr>\n",
              "    <tr>\n",
              "      <th>5632</th>\n",
              "      <td>/content/drive/MyDrive/IRCAD/train/11_18.tif</td>\n",
              "      <td>/content/drive/MyDrive/IRCAD/train/11_18_mask.tif</td>\n",
              "    </tr>\n",
              "    <tr>\n",
              "      <th>5633</th>\n",
              "      <td>/content/drive/MyDrive/IRCAD/train/11_14.tif</td>\n",
              "      <td>/content/drive/MyDrive/IRCAD/train/11_14_mask.tif</td>\n",
              "    </tr>\n",
              "    <tr>\n",
              "      <th>5634</th>\n",
              "      <td>/content/drive/MyDrive/IRCAD/train/11_61.tif</td>\n",
              "      <td>/content/drive/MyDrive/IRCAD/train/11_61_mask.tif</td>\n",
              "    </tr>\n",
              "  </tbody>\n",
              "</table>\n",
              "<p>5635 rows × 2 columns</p>\n",
              "</div>"
            ],
            "text/plain": [
              "                                             Image                                               Mask\n",
              "0      /content/drive/MyDrive/IRCAD/train/6_21.tif   /content/drive/MyDrive/IRCAD/train/6_21_mask.tif\n",
              "1      /content/drive/MyDrive/IRCAD/train/5_97.tif   /content/drive/MyDrive/IRCAD/train/5_97_mask.tif\n",
              "2      /content/drive/MyDrive/IRCAD/train/5_82.tif   /content/drive/MyDrive/IRCAD/train/5_82_mask.tif\n",
              "3      /content/drive/MyDrive/IRCAD/train/5_77.tif   /content/drive/MyDrive/IRCAD/train/5_77_mask.tif\n",
              "4      /content/drive/MyDrive/IRCAD/train/5_87.tif   /content/drive/MyDrive/IRCAD/train/5_87_mask.tif\n",
              "...                                            ...                                                ...\n",
              "5630  /content/drive/MyDrive/IRCAD/train/11_60.tif  /content/drive/MyDrive/IRCAD/train/11_60_mask.tif\n",
              "5631  /content/drive/MyDrive/IRCAD/train/11_55.tif  /content/drive/MyDrive/IRCAD/train/11_55_mask.tif\n",
              "5632  /content/drive/MyDrive/IRCAD/train/11_18.tif  /content/drive/MyDrive/IRCAD/train/11_18_mask.tif\n",
              "5633  /content/drive/MyDrive/IRCAD/train/11_14.tif  /content/drive/MyDrive/IRCAD/train/11_14_mask.tif\n",
              "5634  /content/drive/MyDrive/IRCAD/train/11_61.tif  /content/drive/MyDrive/IRCAD/train/11_61_mask.tif\n",
              "\n",
              "[5635 rows x 2 columns]"
            ]
          },
          "metadata": {
            "tags": []
          },
          "execution_count": 22
        }
      ]
    },
    {
      "cell_type": "code",
      "metadata": {
        "id": "8RXpENxuCY8p"
      },
      "source": [
        "from sklearn import model_selection\n",
        "\n",
        "def makesplits(df,k):\n",
        "    df[\"kfold\"] = -1\n",
        "    df = df.sample(frac=1).reset_index(drop=True)\n",
        "    kf = model_selection.KFold(n_splits=k)\n",
        "\n",
        "    for f,(t_,v_) in enumerate(kf.split(df)):\n",
        "        df.loc[v_,\"kfold\"] = f\n",
        "    return df\n",
        "    \n",
        "kfold_ = makesplits(df,5)\n",
        "kfold_.to_csv(\"Kfolds.csv\",index=None)"
      ],
      "execution_count": 23,
      "outputs": []
    },
    {
      "cell_type": "code",
      "metadata": {
        "id": "XHybHK6kC11G"
      },
      "source": [
        "## DATA AUGMENTATION\n",
        "def trainaugs():\n",
        "    transform =  [\n",
        "                albumentations.HorizontalFlip(),\n",
        "                albumentations.VerticalFlip()\n",
        "            ]\n",
        "    return albumentations.Compose(transform)\n",
        "\n",
        "def valaugs():\n",
        "    transform = [\n",
        "                albumentations.HorizontalFlip(),\n",
        "                albumentations.VerticalFlip()\n",
        "            ]\n",
        "    return albumentations.Compose(transform)"
      ],
      "execution_count": 24,
      "outputs": []
    },
    {
      "cell_type": "code",
      "metadata": {
        "id": "w5cLH1LmC2JE"
      },
      "source": [
        "class NerveDataset(Dataset):\n",
        "    def __init__(self,imagespath,maskspath,augment=None):\n",
        "        self.imagespath = imagespath\n",
        "        self.maskspath = maskspath\n",
        "        self.augment = augment\n",
        "        \n",
        "    def __len__(self):\n",
        "        return len(self.imagespath)\n",
        "    \n",
        "    def __getitem__(self,idx):\n",
        "        image = self.imagespath[idx]\n",
        "        mask = self.maskspath[idx]\n",
        "        image = io.imread(image)\n",
        "        mask = io.imread(mask)\n",
        "        image = transform.resize(image=image,output_shape=(256,256,3)) # (256,256,3)\n",
        "        image = image/255.0\n",
        "        mask = transform.resize(mask,(256,256))  # (256,256,1)\n",
        "        mask = mask / 255.0\n",
        "        \n",
        "        if self.augment:\n",
        "            sample = self.augment(image=image, mask=mask)\n",
        "            image,mask = sample['image'],sample['mask']\n",
        "            \n",
        "        image = image.transpose((2, 0, 1)) # (3,256,256)\n",
        "        mask = np.expand_dims(mask,axis=-1).transpose((2,0,1)) # (1,256,256)\n",
        "            \n",
        "        image = torch.from_numpy(image)\n",
        "        mask = torch.from_numpy(mask)\n",
        "            \n",
        "        return image,mask"
      ],
      "execution_count": 25,
      "outputs": []
    },
    {
      "cell_type": "code",
      "metadata": {
        "id": "Pe4IDW2nC2Lf"
      },
      "source": [
        "from torchvision import transforms, utils\n",
        "from torch import nn\n",
        "\n",
        "from torch.autograd import Variable\n",
        "from torch.nn import Linear, ReLU, CrossEntropyLoss, Sequential, Conv2d, MaxPool2d, Module, Softmax, BatchNorm2d, Dropout\n",
        "from torch.optim import Adam, SGD\n",
        "\n",
        "import torch\n",
        "import torch.nn.functional as F\n",
        "import torch.nn as nn\n",
        "import torch.optim as optim"
      ],
      "execution_count": 26,
      "outputs": []
    },
    {
      "cell_type": "code",
      "metadata": {
        "id": "EU_ddvgwC2PR"
      },
      "source": [
        "class ConvBlock(nn.Module):\n",
        "    def __init__(self,in_channels,out_channels,kernel_size=(3,3),padding=1):\n",
        "        super(ConvBlock,self).__init__()\n",
        "        self.conv = nn.Conv2d(in_channels,out_channels,kernel_size,padding=padding,bias=False)\n",
        "        self.batchnorm = nn.BatchNorm2d(out_channels,eps=1e-4)\n",
        "        self.relu = nn.ReLU(inplace=True)\n",
        "        \n",
        "    def forward(self,x):\n",
        "        x = self.conv(x)\n",
        "        x = self.batchnorm(x)\n",
        "        x = self.relu(x)\n",
        "        return x\n",
        "        \n",
        "        \n",
        "class StackEncoder(nn.Module):\n",
        "    def __init__(self,channel1,channel2,kernel_size=(3,3),padding=1):\n",
        "        super(StackEncoder,self).__init__()\n",
        "        self.maxpool = nn.MaxPool2d(kernel_size=2,stride=2)\n",
        "        self.block = nn.Sequential(\n",
        "            ConvBlock(channel1,channel2,kernel_size,padding),\n",
        "            ConvBlock(channel2,channel2,kernel_size,padding),     \n",
        "        )\n",
        "        \n",
        "    def forward(self,x):\n",
        "        big_out = self.block(x)\n",
        "        poolout = self.maxpool(big_out)\n",
        "        return big_out,poolout\n",
        "    \n",
        "class StackDecoder(nn.Module):\n",
        "    def __init__(self,big_channel,channel1,channel2,kernel_size=(3,3),padding=1):\n",
        "        super(StackDecoder,self).__init__()\n",
        "        self.block = nn.Sequential(\n",
        "            ConvBlock(channel1+big_channel,channel2,kernel_size,padding),\n",
        "            ConvBlock(channel2,channel2,kernel_size,padding),\n",
        "            ConvBlock(channel2,channel2,kernel_size,padding),\n",
        "        )\n",
        "        \n",
        "    def forward(self,x,down_tensor):\n",
        "            _, channels, height, width = down_tensor.size()  \n",
        "            x = F.upsample(x, size=(height, width), mode='bilinear')\n",
        "            x = torch.cat([x, down_tensor], 1)  #combining channels of  input from encoder and upsampling input\n",
        "            x = self.block(x)\n",
        "            return x\n",
        "        \n",
        "        \n",
        "class Unet256(nn.Module):\n",
        "    def __init__(self,input_shape):\n",
        "        super(Unet256,self).__init__()\n",
        "        \n",
        "        channel,height,width = input_shape\n",
        "        \n",
        "        self.down1 = StackEncoder(channel,12,kernel_size=(3,3))  #256\n",
        "        self.down2 = StackEncoder(12,24,kernel_size=(3,3))  # 128\n",
        "        self.down3 = StackEncoder(24,46,kernel_size=(3,3))  # 64\n",
        "        self.down4 = StackEncoder(46,64,kernel_size=(3,3))  # 32\n",
        "        self.down5 = StackEncoder(64,128,kernel_size=(3,3))  #16\n",
        "        \n",
        "        self.center = ConvBlock(128,128,kernel_size=(3,3),padding=1) #16\n",
        "        self.up5 = StackDecoder(128,128,64,kernel_size=(3,3))  #32\n",
        "        self.up4 = StackDecoder(64,64,46,kernel_size=(3,3)) #64\n",
        "        self.up3 = StackDecoder(46,46,24,kernel_size=(3,3))\n",
        "        self.up2 = StackDecoder(24,24,12,kernel_size=(3,3))\n",
        "        self.up1 = StackDecoder(12,12,12,kernel_size=(3,3))\n",
        "        self.conv = Conv2d(12,1,kernel_size=(1,1),bias=True)\n",
        "        \n",
        "    def forward(self,x):\n",
        "        down1,out = self.down1(x)  \n",
        "        down2,out = self.down2(out)  \n",
        "        down3,out = self.down3(out)\n",
        "        down4,out = self.down4(out)\n",
        "        down5,out = self.down5(out)\n",
        "        \n",
        "        \n",
        "        out = self.center(out)\n",
        "        \n",
        "        up5 = self.up5(out,down5)\n",
        "        up4 = self.up4(up5,down4)\n",
        "        up3 = self.up3(up4,down3)\n",
        "        up2 = self.up2(up3,down2)\n",
        "        up1 = self.up1(up2,down1)\n",
        "        \n",
        "        out = self.conv(up1)\n",
        "\n",
        "\n",
        "        return out"
      ],
      "execution_count": 27,
      "outputs": []
    },
    {
      "cell_type": "code",
      "metadata": {
        "id": "z4KyoLd7EFJ7"
      },
      "source": [
        "class DiceBCELoss(nn.Module):\n",
        "    def __init__(self, weight=None, size_average=True):\n",
        "        super(DiceBCELoss, self).__init__()\n",
        "\n",
        "    def forward(self, inputs, targets, smooth=1):\n",
        "        \n",
        "        #comment out if your model contains a sigmoid or equivalent activation layer\n",
        "        inputs = F.sigmoid(inputs)       \n",
        "        bce_weight = 0.5\n",
        "        #flatten label and prediction tensors\n",
        "        inputs = inputs.view(-1)\n",
        "        targets = targets.view(-1)\n",
        "        \n",
        "        intersection = (inputs * targets).sum()                            \n",
        "        dice_loss = 1 - (2.*intersection + smooth)/(inputs.sum() + targets.sum() + smooth)  \n",
        "        BCE = F.binary_cross_entropy(inputs, targets, reduction='mean')\n",
        "        loss_final = BCE * bce_weight + dice_loss * (1 - bce_weight)\n",
        "        return loss_final\n",
        "    \n",
        "    \n",
        "\n",
        "class IoU(nn.Module):\n",
        "    def __init__(self, weight=None, size_average=True):\n",
        "        super(IoU, self).__init__()\n",
        "\n",
        "    def forward(self, inputs, targets, smooth=1):\n",
        "        \n",
        "        #comment out if your model contains a sigmoid or equivalent activation layer\n",
        "        inputs = F.sigmoid(inputs)       \n",
        "        \n",
        "        #flatten label and prediction tensors\n",
        "        inputs = inputs.view(-1)\n",
        "        targets = targets.view(-1)\n",
        "        intersection = (inputs * targets).sum()\n",
        "        total = (inputs + targets).sum()\n",
        "        union = total - intersection \n",
        "        \n",
        "        IoU = (intersection + smooth)/(union + smooth)\n",
        "                \n",
        "        return IoU * 100\n",
        "\n",
        "    \n",
        "    \n",
        "class DiceScore(nn.Module):\n",
        "    def __init__(self, weight=None, size_average=True):\n",
        "        super(DiceScore, self).__init__()\n",
        "\n",
        "    def forward(self, inputs, targets, smooth=1):\n",
        "        \n",
        "        #comment out if your model contains a sigmoid or equivalent activation layer\n",
        "        inputs = F.sigmoid(inputs)       \n",
        "        \n",
        "        #flatten label and prediction tensors\n",
        "        inputs = inputs.view(-1)\n",
        "        targets = targets.view(-1)\n",
        "        intersection = (inputs * targets).sum()                            \n",
        "        dice_score = (2.*intersection + smooth)/(inputs.sum() + targets.sum() + smooth) \n",
        "        return dice_score"
      ],
      "execution_count": 28,
      "outputs": []
    },
    {
      "cell_type": "code",
      "metadata": {
        "id": "PzTXuahFEFNt"
      },
      "source": [
        "def train_model(fold):\n",
        "    train_loss = []\n",
        "    train_iou = []\n",
        "    train_dice = []\n",
        "    val_loss = []\n",
        "    val_iou = []\n",
        "    val_dice = []\n",
        "    epochs = 2\n",
        "    train_bs= 8\n",
        "    val_bs = 4\n",
        "    \n",
        "    FILE = f\"./savedmodels/model_Fold_{fold}.pth\"\n",
        "    \n",
        "    if not os.path.exists(\"./savedmodels\"):\n",
        "        os.mkdir(\"savedmodels\")\n",
        "        \n",
        "    print(f\"*\"*20,\"FOLD\",fold, \"*\"*20)\n",
        "    df = pd.read_csv(\"Kfolds.csv\")\n",
        "    df_train = df[df.kfold != fold].reset_index(drop=True)\n",
        "    df_val = df[df.kfold == fold].reset_index(drop=True)\n",
        "    \n",
        "    traindata = NerveDataset(imagespath = df_train['Image'].tolist(),\n",
        "                            maskspath = df_train['Mask'].tolist(),\n",
        "                        augment=trainaugs())\n",
        "\n",
        "    validationdata = NerveDataset(imagespath = df_val['Image'].tolist(),\n",
        "                                maskspath = df_val['Mask'].tolist(),augment=valaugs())\n",
        "\n",
        "    trainloader = DataLoader(traindata,batch_size = train_bs,shuffle=True)\n",
        "    valloader = DataLoader(validationdata,batch_size=val_bs,shuffle=False)\n",
        "    \n",
        "    model = Unet256((3,256,256)).to(device)\n",
        "    iou_ = IoU()\n",
        "    criterion = DiceBCELoss()\n",
        "    learning_rate = 1e-3\n",
        "    optimizer = torch.optim.Adam(model.parameters(), lr=learning_rate)\n",
        "    \n",
        "    for epoch in range(epochs):\n",
        "        print('Epoch {}/{}'.format(epoch + 1, epochs))\n",
        "        start_time = time.time()\n",
        "        running_train_loss = []\n",
        "        running_train_iou = []\n",
        "\n",
        "        tk_train = tqdm(trainloader,total = len(trainloader))\n",
        "        for image,mask in tk_train: \n",
        "                image = image.to(device,dtype=torch.float)\n",
        "                mask = mask.to(device,dtype=torch.float)\n",
        "\n",
        "                pred_mask = model.forward(image) # forward propogation\n",
        "                loss = criterion(pred_mask,mask)\n",
        "                iou = iou_(pred_mask,mask)\n",
        "                optimizer.zero_grad() # setting gradient to zero\n",
        "                loss.backward()\n",
        "                optimizer.step()\n",
        "                running_train_loss.append(loss.item())\n",
        "                running_train_iou.append(iou.item())\n",
        "        else:           \n",
        "            running_val_loss = []\n",
        "            running_val_iou = []\n",
        "            \n",
        "            with torch.no_grad():\n",
        "                tk_val = tqdm(valloader,total = len(valloader))\n",
        "                for image,mask in tk_val:\n",
        "                        image = image.to(device,dtype=torch.float)\n",
        "                        mask = mask.to(device,dtype=torch.float)                            \n",
        "                        pred_mask = model.forward(image)\n",
        "                        loss = criterion(pred_mask,mask)\n",
        "                        iou = iou_(pred_mask,mask)\n",
        "                        running_val_loss.append(loss.item())\n",
        "                        running_val_iou.append(iou.item())\n",
        "\n",
        "        epoch_train_loss = np.mean(running_train_loss) \n",
        "        print(f'Fold: {fold} <---> Epoch: {epoch + 1} <---> Train DiceBCELoss: {epoch_train_loss}')                       \n",
        "        train_loss.append(epoch_train_loss)\n",
        "        \n",
        "        epoch_val_loss = np.mean(running_val_loss)\n",
        "        print(f'Fold: {fold} <---> Epoch: {epoch + 1} <---> Validation DiceBCELoss: {epoch_val_loss}')                                \n",
        "        val_loss.append(epoch_val_loss)\n",
        "        \n",
        "        epoch_train_iou = np.mean(running_train_iou)\n",
        "        print(f'Fold: {fold} <---> Epoch: {epoch + 1} <---> Train IOU: {epoch_train_iou}')                                \n",
        "        train_iou.append(epoch_train_iou)\n",
        "        \n",
        "        epoch_val_iou = np.mean(running_val_iou)\n",
        "        print(f'Fold: {fold} <---> Epoch: {epoch + 1} <---> Validation IOU: {epoch_val_iou}')                                \n",
        "        val_iou.append(epoch_val_iou)\n",
        "        \n",
        "\n",
        "        time_elapsed = time.time() - start_time\n",
        "        print('Fold {}: Time Taken: {:.0f}m {:.0f}s'.format(fold,time_elapsed // 60, time_elapsed % 60))\n",
        "        \n",
        "    torch.save(model.state_dict(), FILE)\n",
        "        \n",
        "    return train_loss, val_loss,train_iou,val_iou"
      ],
      "execution_count": 46,
      "outputs": []
    },
    {
      "cell_type": "code",
      "metadata": {
        "id": "0BmlBg9xEFQO"
      },
      "source": [
        "train_model(0)"
      ],
      "execution_count": 48,
      "outputs": []
    },
    {
      "cell_type": "code",
      "metadata": {
        "id": "aoEfypXdEFgq"
      },
      "source": [
        "# !pip list"
      ],
      "execution_count": 45,
      "outputs": []
    },
    {
      "cell_type": "code",
      "metadata": {
        "id": "m7BYc2BsEFjZ"
      },
      "source": [
        ""
      ],
      "execution_count": 31,
      "outputs": []
    },
    {
      "cell_type": "code",
      "metadata": {
        "id": "1qOoRJu-EFm8"
      },
      "source": [
        ""
      ],
      "execution_count": null,
      "outputs": []
    },
    {
      "cell_type": "code",
      "metadata": {
        "id": "tre4p1OsC2YC"
      },
      "source": [
        ""
      ],
      "execution_count": null,
      "outputs": []
    },
    {
      "cell_type": "code",
      "metadata": {
        "id": "aq0G_E9NC2aV"
      },
      "source": [
        ""
      ],
      "execution_count": null,
      "outputs": []
    },
    {
      "cell_type": "code",
      "metadata": {
        "id": "5c5-xv8cC2e0"
      },
      "source": [
        ""
      ],
      "execution_count": null,
      "outputs": []
    },
    {
      "cell_type": "code",
      "metadata": {
        "id": "elmJe-iAC2hR"
      },
      "source": [
        ""
      ],
      "execution_count": null,
      "outputs": []
    },
    {
      "cell_type": "code",
      "metadata": {
        "id": "5o3zFOS_CZLn"
      },
      "source": [
        ""
      ],
      "execution_count": null,
      "outputs": []
    },
    {
      "cell_type": "code",
      "metadata": {
        "id": "U0fc2L0kuwhY"
      },
      "source": [
        "\r\n",
        "def show_examples(name: str, image: np.ndarray, mask: np.ndarray):\r\n",
        "    plt.figure(figsize=(10, 14))\r\n",
        "    plt.subplot(1, 2, 1)\r\n",
        "    plt.imshow(image)\r\n",
        "    plt.title(f\"Image: {name}\")\r\n",
        "\r\n",
        "    plt.subplot(1, 2, 2)\r\n",
        "    plt.imshow(mask)\r\n",
        "    plt.title(f\"Mask: {name}\")\r\n",
        "\r\n",
        "\r\n",
        "def show(index: int, images: List[Path], masks: List[Path], transforms=None) -> None:\r\n",
        "    image_path = images[index]\r\n",
        "    name = str(image_path)\r\n",
        "    # image=cv2.imread(image_path, 1)\r\n",
        "    # image=cv2.cvtColor(image,cv2.COLOR_BGR2RGB)\r\n",
        "    # mask=cv2.imread(masks[index])\r\n",
        "\r\n",
        "    #image = Image.open(image_path)\r\n",
        "    image = gif_imread(image_path,plugin='pil')\r\n",
        "    #image = np.reshape(np.asarray([image, image, image]), (image.shape[0], image.shape[1], 3))\r\n",
        "    image=cv2.cvtColor(image,cv2.COLOR_BGR2RGB)\r\n",
        "    #image = image.transpose((0, 1, 2)).astype(np.float32)\r\n",
        "    print(image.shape)\r\n",
        "    print(image.astype)\r\n",
        "    mask = gif_imread(masks[index],plugin='pil')\r\n",
        "    print(mask.shape)\r\n",
        "    if transforms is not None:\r\n",
        "        temp = transforms(image=image, mask=mask)\r\n",
        "        image = temp[\"image\"]\r\n",
        "\r\n",
        "        mask = temp[\"mask\"]\r\n",
        "        print(mask.shape)\r\n",
        "        print(image.shape)\r\n",
        "\r\n",
        "    show_examples(name, image, mask)\r\n",
        "\r\n",
        "def show_random(images, masks, transforms=None) -> None:\r\n",
        "    length = len(images)\r\n",
        "    index = random.randint(0, length - 1)\r\n",
        "    show(index, images, masks, transforms)"
      ],
      "execution_count": null,
      "outputs": []
    },
    {
      "cell_type": "code",
      "metadata": {
        "colab": {
          "base_uri": "https://localhost:8080/",
          "height": 298
        },
        "id": "NtIfmyVvue6f",
        "outputId": "6f39a78d-6684-4164-e955-58b621e784ab"
      },
      "source": [
        "show_random(ALL_IMAGES, ALL_MASKS)"
      ],
      "execution_count": null,
      "outputs": [
        {
          "output_type": "stream",
          "text": [
            "(420, 580, 3)\n",
            "<built-in method astype of numpy.ndarray object at 0x7f92ce081ee0>\n",
            "(420, 580)\n"
          ],
          "name": "stdout"
        },
        {
          "output_type": "display_data",
          "data": {
            "image/png": "[encoded data removed]",
            "text/plain": [
              "<Figure size 720x1008 with 2 Axes>"
            ]
          },
          "metadata": {
            "tags": [],
            "needs_background": "light"
          }
        }
      ]
    },
    {
      "cell_type": "code",
      "metadata": {
        "id": "BUFEmFI5vMXn"
      },
      "source": [
        "class SegmentationDataset(Dataset):\r\n",
        "    def __init__(\r\n",
        "        self,\r\n",
        "        images: List[Path],\r\n",
        "        masks: List[Path] = None,\r\n",
        "        transforms=None\r\n",
        "    ) -> None:\r\n",
        "        self.images = images\r\n",
        "        self.masks = masks\r\n",
        "        self.transforms = transforms\r\n",
        "\r\n",
        "    def __len__(self) -> int:\r\n",
        "        return len(self.images)\r\n",
        "\r\n",
        "    def __getitem__(self, idx: int) -> dict:\r\n",
        "        image_path = self.images[idx]\r\n",
        "        image = gif_imread(image_path,plugin='pil')\r\n",
        "        image=cv2.cvtColor(image,cv2.COLOR_BGR2RGB)\r\n",
        " \r\n",
        "        result = {\"image\": image}\r\n",
        "        \r\n",
        "        if self.masks is not None:\r\n",
        "            mask = gif_imread(self.masks[idx],plugin='pil')\r\n",
        "            result[\"mask\"] = mask\r\n",
        "        \r\n",
        "        if self.transforms is not None:\r\n",
        "            result = self.transforms(**result)\r\n",
        "\r\n",
        "        return result"
      ],
      "execution_count": null,
      "outputs": []
    },
    {
      "cell_type": "code",
      "metadata": {
        "id": "fCyP5HY0vdVZ"
      },
      "source": [
        "def pre_transforms(image_size=224):\r\n",
        "    return [albu.Resize(image_size, image_size, interpolation = Image.BILINEAR, p=1)]\r\n",
        "\r\n",
        "\r\n",
        "def hard_transforms():\r\n",
        "    result = [\r\n",
        "      albu.RandomRotate90(),\r\n",
        "      albu.Cutout(),\r\n",
        "      albu.GaussNoise(), \r\n",
        "      albu.HorizontalFlip(p=0.5),\r\n",
        "    ]\r\n",
        "\r\n",
        "    return result\r\n",
        "  \r\n",
        "\r\n",
        "def resize_transforms(image_size=224):\r\n",
        "    BORDER_CONSTANT = 0\r\n",
        "    pre_size = int(image_size * 1.5)\r\n",
        "\r\n",
        "    random_crop = albu.Compose([\r\n",
        "      albu.SmallestMaxSize(pre_size, p=1),\r\n",
        "      albu.RandomCrop(\r\n",
        "          image_size, image_size, p=1\r\n",
        "      )])\r\n",
        "\r\n",
        "    rescale = albu.Compose([albu.Rfrom sklearn import model_selection\r\n",
        "\r\n",
        "def makesplits(df,k):\r\n",
        "    df[\"kfold\"] = -1\r\n",
        "    df = df.sample(frac=1).reset_index(drop=True)\r\n",
        "    kf = model_selection.KFold(n_splits=k)\r\n",
        "\r\n",
        "    for f,(t_,v_) in enumerate(kf.split(df)):\r\n",
        "        df.loc[v_,\"kfold\"] = f\r\n",
        "    return dfesize(image_size, image_size, p=1)])\r\n",
        "\r\n",
        "    random_crop_big = albu.Compose([\r\n",
        "      albu.LongestMaxSize(pre_size, p=1),\r\n",
        "      albu.RandomCrop(\r\n",
        "          image_size, image_size, p=1\r\n",
        "      )])\r\n",
        "\r\n",
        "    # Converts the image to a square of size image_size x image_size\r\n",
        "    result = [\r\n",
        "      albu.OneOf([\r\n",
        "          random_crop,\r\n",
        "          rescale,\r\n",
        "          random_crop_big\r\n",
        "      ], p=1)\r\n",
        "    ]\r\n",
        "\r\n",
        "    return result\r\n",
        "  \r\n",
        "def post_transforms():\r\n",
        "    # we use ImageNet image normalization\r\n",
        "    # and convert it to torch.Tensor\r\n",
        "    return [ToTensor()]\r\n",
        "  \r\n",
        "def compose(transforms_to_compose):\r\n",
        "    # combine all augmentations into single pipeline\r\n",
        "    result = albu.Compose([\r\n",
        "      item for sublist in transforms_to_compose for item in sublist\r\n",
        "    ])\r\n",
        "    return result\r\n",
        "\r\n",
        "\r\n",
        "train_transforms = compose([resize_transforms(), hard_transforms(), post_transforms()])\r\n",
        "valid_transforms = compose([pre_transforms(), post_transforms()])\r\n",
        "\r\n",
        "#show_transforms = compose([resize_transforms(), post_transforms()])\r\n"
      ],
      "execution_count": null,
      "outputs": []
    },
    {
      "cell_type": "code",
      "metadata": {
        "id": "qVtmO7OKCn9j"
      },
      "source": [
        "def get_loaders(\r\n",
        "    images: List[Path],\r\n",
        "    masks: List[Path],\r\n",
        "    random_state: int,\r\n",
        "    valid_size: float = 0.2,\r\n",
        "    batch_size: int = 32,\r\n",
        "    num_workers: int = 4,\r\n",
        "    train_transforms_fn = None,\r\n",
        "    valid_transforms_fn = None,\r\n",
        ") -> dict:\r\n",
        "\r\n",
        "    indices = np.arange(len(images))\r\n",
        "\r\n",
        "    # Let's divide the data set into train and valid parts.\r\n",
        "    train_indices, valid_indices = train_test_split(\r\n",
        "      indices, test_size=valid_size, random_state=random_state, shuffle=True\r\n",
        "    )\r\n",
        "\r\n",
        "    np_images = np.array(images)\r\n",
        "    np_masks = np.array(masks)\r\n",
        "\r\n",
        "    # Creates our train dataset\r\n",
        "    train_dataset = SegmentationDataset(\r\n",
        "      images = np_images[train_indices].tolist(),\r\n",
        "      masks = np_masks[train_indices].tolist(),\r\n",
        "      transforms = train_transforms_fn\r\n",
        "    )\r\n",
        "\r\n",
        "    # Creates our valid dataset\r\n",
        "    valid_dataset = SegmentationDataset(\r\n",
        "      images = np_images[valid_indices].tolist(),\r\n",
        "      masks = np_masks[valid_indices].tolist(),\r\n",
        "      transforms = valid_transforms_fn\r\n",
        "    )\r\n",
        "\r\n",
        "    #Data loaders\r\n",
        "    train_loader = DataLoader(\r\n",
        "      train_dataset,\r\n",
        "      batch_size=batch_size,\r\n",
        "      shuffle=True,\r\n",
        "      num_workers=num_workers,\r\n",
        "      drop_last=True,\r\n",
        "    )\r\n",
        "\r\n",
        "    valid_loader = DataLoader(\r\n",
        "      valid_dataset,\r\n",
        "      batch_size=batch_size,\r\n",
        "      shuffle=False,\r\n",
        "      num_workers=num_workers,\r\n",
        "      drop_last=True,\r\n",
        "    )\r\n",
        "\r\n",
        "    # And excpect to get an OrderedDict of loaders\r\n",
        "    loaders = collections.OrderedDict()\r\n",
        "    loaders[\"train\"] = train_loader\r\n",
        "    loaders[\"valid\"] = valid_loader\r\n",
        "\r\n",
        "    return loaders\r\n",
        "\r\n",
        "batch_size = 32   \r\n",
        "loaders = get_loaders(\r\n",
        "    images=ALL_IMAGES,\r\n",
        "    masks=ALL_MASKS,\r\n",
        "    random_state=42,\r\n",
        "    train_transforms_fn=train_transforms,\r\n",
        "    valid_transforms_fn=valid_transforms,\r\n",
        "    batch_size=batch_size\r\n",
        ")"
      ],
      "execution_count": null,
      "outputs": []
    },
    {
      "cell_type": "code",
      "metadata": {
        "id": "XQMYiEk2DJql"
      },
      "source": [
        "# def dice_loss(pred, target):\r\n",
        "#     \"\"\"Cacluate dice loss \r\n",
        "#     Parameters\r\n",
        "#     ----------\r\n",
        "#         pred:\r\n",
        "#             predictions from the model\r\n",
        "#         target:\r\n",
        "#             ground truth label\r\n",
        "#     \"\"\"\r\n",
        "                                                                         \r\n",
        "#     smooth = 1.                                                          \r\n",
        "                                                                         \r\n",
        "#     p_flat = pred.contiguous().view(-1)                                   \r\n",
        "#     t_flat = target.contiguous().view(-1)                                 \r\n",
        "#     intersection = (p_flat * t_flat).sum()                                 \r\n",
        "                                                                         \r\n",
        "#     a_sum = torch.sum(p_flat * p_flat)                                     \r\n",
        "#     b_sum = torch.sum(t_flat * t_flat)                                     \r\n",
        "                                                                         \r\n",
        "#     return 1 - ((2. * intersection + smooth) / (a_sum + b_sum + smooth) )\r\n",
        "\r\n",
        "\r\n",
        "\r\n",
        "\r\n",
        "\r\n",
        "class DiceBCELoss(nn.Module):\r\n",
        "    def __init__(self, weight=None, size_average=True):\r\n",
        "        super(DiceBCELoss, self).__init__()\r\n",
        "\r\n",
        "    def forward(self, inputs, targets, smooth=1):\r\n",
        "        \r\n",
        "        #comment out if your model contains a sigmoid or equivalent activation layer\r\n",
        "        inputs = F.sigmoid(inputs)       \r\n",
        "        bce_weight = 0.5\r\n",
        "        #flatten label and prediction tensors\r\n",
        "        inputs = inputs.view(-1)\r\n",
        "        targets = targets.view(-1)\r\n",
        "        \r\n",
        "        intersection = (inputs * targets).sum()                            \r\n",
        "        dice_loss = 1 - (2.*intersection + smooth)/(inputs.sum() + targets.sum() + smooth)  \r\n",
        "        BCE = F.binary_cross_entropy(inputs, targets, reduction='mean')\r\n",
        "        loss_final = BCE * bce_weight + dice_loss * (1 - bce_weight)\r\n",
        "        return loss_final\r\n",
        "    \r\n",
        "    \r\n",
        "\r\n",
        "class IoU(nn.Module):\r\n",
        "    def __init__(self, weight=None, size_average=True):\r\n",
        "        super(IoU, self).__init__()\r\n",
        "\r\n",
        "    def forward(self, inputs, targets, smooth=1):\r\n",
        "        \r\n",
        "        #comment out if your model contains a sigmoid or equivalent activation layer\r\n",
        "        inputs = F.sigmoid(inputs)       \r\n",
        "        \r\n",
        "        #flatten label and prediction tensors\r\n",
        "        inputs = inputs.view(-1)\r\n",
        "        targets = targets.view(-1)\r\n",
        "        intersection = (inputs * targets).sum()\r\n",
        "        total = (inputs + targets).sum()\r\n",
        "        union = total - intersection \r\n",
        "        \r\n",
        "        IoU = (intersection + smooth)/(union + smooth)\r\n",
        "                \r\n",
        "        return IoU * 100\r\n",
        "\r\n",
        "    \r\n",
        "    \r\n",
        "class DiceScore(nn.Module):\r\n",
        "    def __init__(self, weight=None, size_average=True):\r\n",
        "        super(DiceScore, self).__init__()\r\n",
        "\r\n",
        "    def forward(self, inputs, targets, smooth=1):\r\n",
        "        \r\n",
        "        #comment out if your model contains a sigmoid or equivalent activation layer\r\n",
        "        inputs = F.sigmoid(inputs)       \r\n",
        "        \r\n",
        "        #flatten label and prediction tensors\r\n",
        "        inputs = inputs.view(-1)\r\n",
        "        targets = targets.view(-1)\r\n",
        "        intersection = (inputs * targets).sum()                            \r\n",
        "        dice_score = (2.*intersection + smooth)/(inputs.sum() + targets.sum() + smooth) \r\n",
        "        return dice_score"
      ],
      "execution_count": null,
      "outputs": []
    },
    {
      "cell_type": "code",
      "metadata": {
        "id": "TBg9m806Dr7n"
      },
      "source": [
        "class DoubleConv(nn.Module):\r\n",
        "    \"\"\"(convolution => [BN] => ReLU) * 2\"\"\"\r\n",
        "\r\n",
        "    def __init__(self, in_channels, out_channels, mid_channels=None):\r\n",
        "        super().__init__()\r\n",
        "        if not mid_channels:\r\n",
        "            mid_channels = out_channels\r\n",
        "        self.double_conv = nn.Sequential(\r\n",
        "            nn.Conv2d(in_channels, mid_channels, kernel_size=3, padding=1),\r\n",
        "            nn.BatchNorm2d(mid_channels),\r\n",
        "            nn.ReLU(inplace=True),\r\n",
        "            nn.Conv2d(mid_channels, out_channels, kernel_size=3, padding=1),\r\n",
        "            nn.BatchNorm2d(out_channels),\r\n",
        "            nn.ReLU(inplace=True)\r\n",
        "        )\r\n",
        "\r\n",
        "    def forward(self, x):\r\n",
        "        return self.double_conv(x)\r\n",
        "\r\n",
        "\r\n",
        "class Down(nn.Module):\r\n",
        "    \"\"\"Downscaling with maxpool then double conv\"\"\"\r\n",
        "\r\n",
        "    def __init__(self, in_channels, out_channels):\r\n",
        "        super().__init__()\r\n",
        "        self.maxpool_conv = nn.Sequential(\r\n",
        "            nn.MaxPool2d(2),\r\n",
        "            DoubleConv(in_channels, out_channels)\r\n",
        "        )\r\n",
        "\r\n",
        "    def forward(self, x):\r\n",
        "        return self.maxpool_conv(x)\r\n",
        "\r\n",
        "\r\n",
        "class Up(nn.Module):\r\n",
        "    \"\"\"Upscaling then double conv\"\"\"\r\n",
        "\r\n",
        "    def __init__(self, in_channels, out_channels, bilinear=True):\r\n",
        "        super().__init__()\r\n",
        "\r\n",
        "        # if bilinear, use the normal convolutions to reduce the number of channels\r\n",
        "        if bilinear:\r\n",
        "            self.up = nn.Upsample(scale_factor=2, mode='bilinear', align_corners=True)\r\n",
        "            self.conv = DoubleConv(in_channels, out_channels, in_channels // 2)\r\n",
        "        else:\r\n",
        "            self.up = nn.ConvTranspose2d(in_channels , in_channels // 2, kernel_size=2, stride=2)\r\n",
        "            self.conv = DoubleConv(in_channels, out_channels)\r\n",
        "\r\n",
        "\r\n",
        "    def forward(self, x1, x2):\r\n",
        "        x1 = self.up(x1)\r\n",
        "        # input is CHW\r\n",
        "        diffY = x2.size()[2] - x1.size()[2]\r\n",
        "        diffX = x2.size()[3] - x1.size()[3]\r\n",
        "\r\n",
        "        x1 = F.pad(x1, [diffX // 2, diffX - diffX // 2,\r\n",
        "                        diffY // 2, diffY - diffY // 2])\r\n",
        "        # if you have padding issues, see\r\n",
        "        # https://github.com/HaiyongJiang/U-Net-Pytorch-Unstructured-Buggy/commit/0e854509c2cea854e247a9c615f175f76fbb2e3a\r\n",
        "        # https://github.com/xiaopeng-liao/Pytorch-UNet/commit/8ebac70e633bac59fc22bb5195e513d5832fb3bd\r\n",
        "        x = torch.cat([x2, x1], dim=1)\r\n",
        "        return self.conv(x)\r\n",
        "\r\n",
        "\r\n",
        "class OutConv(nn.Module):\r\n",
        "    def __init__(self, in_channels, out_channels):\r\n",
        "        super(OutConv, self).__init__()\r\n",
        "        self.conv = nn.Conv2d(in_channels, out_channels, kernel_size=1)\r\n",
        "\r\n",
        "    def forward(self, x):\r\n",
        "        return self.conv(x)\r\n",
        "        \r\n",
        "class UNet(nn.Module):\r\n",
        "    def __init__(self, n_channels, n_classes, bilinear=True):\r\n",
        "        super(UNet, self).__init__()\r\n",
        "        self.n_channels = n_channels\r\n",
        "        self.n_classes = n_classes\r\n",
        "        self.bilinear = bilinear\r\n",
        "\r\n",
        "        self.inc = DoubleConv(n_channels, 64)\r\n",
        "        self.down1 = Down(64, 128)\r\n",
        "        self.down2 = Down(128, 256)\r\n",
        "        self.down3 = Down(256, 512)\r\n",
        "        factor = 2 if bilinear else 1\r\n",
        "        self.down4 = Down(512, 1024 // factor)\r\n",
        "        self.up1 = Up(1024, 512 // factor, bilinear)\r\n",
        "        self.up2 = Up(512, 256 // factor, bilinear)\r\n",
        "        self.up3 = Up(256, 128 // factor, bilinear)\r\n",
        "        self.up4 = Up(128, 64, bilinear)\r\n",
        "        self.outc = OutConv(64, n_classes)\r\n",
        "\r\n",
        "    def forward(self, x):\r\n",
        "        x1 = self.inc(x)\r\n",
        "        x2 = self.down1(x1)\r\n",
        "        x3 = self.down2(x2)\r\n",
        "        x4 = self.down3(x3)\r\n",
        "        x5 = self.down4(x4)\r\n",
        "        x = self.up1(x5, x4)\r\n",
        "        x = self.up2(x, x3)\r\n",
        "        x = self.up3(x, x2)\r\n",
        "        x = self.up4(x, x1)\r\n",
        "        logits = self.outc(x)\r\n",
        "        return logits"
      ],
      "execution_count": null,
      "outputs": []
    },
    {
      "cell_type": "code",
      "metadata": {
        "id": "qAFgRoGv_HJY"
      },
      "source": [
        ""
      ],
      "execution_count": null,
      "outputs": []
    },
    {
      "cell_type": "code",
      "metadata": {
        "id": "C7xBlnjN_HYz"
      },
      "source": [
        ""
      ],
      "execution_count": null,
      "outputs": []
    },
    {
      "cell_type": "code",
      "metadata": {
        "id": "rKL9SRdz_Hbt"
      },
      "source": [
        ""
      ],
      "execution_count": null,
      "outputs": []
    },
    {
      "cell_type": "code",
      "metadata": {
        "id": "0vW47eSS_Hdv"
      },
      "source": [
        ""
      ],
      "execution_count": null,
      "outputs": []
    },
    {
      "cell_type": "code",
      "metadata": {
        "id": "2Rvyyflh_Hh6"
      },
      "source": [
        ""
      ],
      "execution_count": null,
      "outputs": []
    },
    {
      "cell_type": "code",
      "metadata": {
        "id": "lXq9PdmB_Hj9"
      },
      "source": [
        ""
      ],
      "execution_count": null,
      "outputs": []
    },
    {
      "cell_type": "code",
      "metadata": {
        "id": "DjmaVVO9Fc3I",
        "colab": {
          "base_uri": "https://localhost:8080/"
        },
        "outputId": "1e3a30c1-7681-41ae-e8b2-af3320743291"
      },
      "source": [
        "#hyperparameters\r\n",
        "learning_rate = 0.01,\r\n",
        "epochs = 5,\r\n",
        "batch_size = 32,\r\n",
        "n_channels = 3,\r\n",
        "n_classes = 1,\r\n",
        "net = UNet(n_channels=3, n_classes=1, bilinear=True)\r\n",
        "optimizer = optim.Adam(net.parameters(), lr=0.01, betas=(0.9, 0.999), eps=1e-08)\r\n",
        "scheduler = optim.lr_scheduler.ReduceLROnPlateau(optimizer, 'max', patience=2)\r\n",
        "#criterion = nn.BCEWithLogitsLoss()\r\n",
        "\r\n",
        "\r\n",
        "from catalyst.dl import SupervisedRunner\r\n",
        "\r\n",
        "num_epochs = 20\r\n",
        "logdir = \"/content/drive/MyDrive/IRCAD/logs/segmentation\"\r\n",
        "\r\n",
        "#device = utils.get_device()\r\n",
        "print(f\"device: {device}\")\r\n",
        "\r\n",
        "fp16_params = None\r\n",
        "\r\n",
        "print(f\"FP16 params: {fp16_params}\")\r\n",
        "\r\n",
        "\r\n",
        "# by default SupervisedRunner uses \"features\" and \"targets\",\r\n",
        "# in our case we get \"image\" and \"mask\" keys in dataset __getitem__\r\n",
        "runner = SupervisedRunner(device=device, input_key=\"image\", input_target_key=\"mask\")\r\n",
        "from torch import nn\r\n",
        "\r\n",
        "from catalyst.contrib.nn import DiceLoss, IoULoss\r\n",
        "\r\n",
        "# we have multiple criterions\r\n",
        "criterion = {\r\n",
        "    \"dice\": DiceLoss(),\r\n",
        "    \"iou\": IoULoss(),\r\n",
        "    \"bce\": nn.BCEWithLogitsLoss()\r\n",
        "}"
      ],
      "execution_count": null,
      "outputs": [
        {
          "output_type": "stream",
          "text": [
            "device: cuda\n",
            "FP16 params: None\n"
          ],
          "name": "stdout"
        }
      ]
    },
    {
      "cell_type": "code",
      "metadata": {
        "colab": {
          "base_uri": "https://localhost:8080/"
        },
        "id": "yfJPVrW3Hr4Y",
        "outputId": "482b6600-f508-4675-c909-c9aa78a13cc3"
      },
      "source": [
        "epochs = 5\r\n",
        "train_loader = loaders[\"train\"]\r\n",
        "valid_loader = loaders[\"valid\"]\r\n",
        "device = torch.device('cuda' if torch.cuda.is_available() else 'cpu')\r\n",
        "from catalyst.dl import DiceCallback, IouCallback, \\\r\n",
        "  CriterionCallback, MetricAggregationCallback\r\n",
        "from catalyst.contrib.callbacks import DrawMasksCallback\r\n",
        "\r\n",
        "callbacks = [\r\n",
        "    # Each criterion is calculated separately.\r\n",
        "    CriterionCallback(\r\n",
        "        input_key=\"mask\",\r\n",
        "        prefix=\"loss_dice\",\r\n",
        "        criterion_key=\"dice\"\r\n",
        "    ),\r\n",
        "    CriterionCallback(\r\n",
        "        input_key=\"mask\",\r\n",
        "        prefix=\"loss_iou\",\r\n",
        "        criterion_key=\"iou\"\r\n",
        "    ),\r\n",
        "    CriterionCallback(\r\n",
        "        input_key=\"mask\",\r\n",
        "        prefix=\"loss_bce\",\r\n",
        "        criterion_key=\"bce\"\r\n",
        "    ),\r\n",
        "\r\n",
        "    # And only then we aggregate everything into one loss.\r\n",
        "    MetricAggregationCallback(\r\n",
        "        prefix=\"loss\",\r\n",
        "        mode=\"weighted_sum\", # can be \"sum\", \"weighted_sum\" or \"mean\"\r\n",
        "        # because we want weighted sum, we need to add scale for each loss\r\n",
        "        metrics={\"loss_dice\": 1.0, \"loss_iou\": 1.0, \"loss_bce\": 0.8},\r\n",
        "    ),\r\n",
        "\r\n",
        "    # metrics\r\n",
        "    DiceCallback(input_key=\"mask\"),\r\n",
        "    IouCallback(input_key=\"mask\"),\r\n",
        "    # visualization\r\n",
        "    DrawMasksCallback(output_key='logits',\r\n",
        "                      input_image_key='image',\r\n",
        "                      input_mask_key='mask',\r\n",
        "                      summary_step=50\r\n",
        "    )\r\n",
        "]\r\n",
        "runner.train(\r\n",
        "  model=net,\r\n",
        "  criterion=criterion,\r\n",
        "  optimizer=optimizer,\r\n",
        "  scheduler=scheduler,\r\n",
        "  # our dataloaders\r\n",
        "  loaders=loaders,\r\n",
        "  # We can specify the callbacks list for the experiment;\r\n",
        "  callbacks=callbacks,\r\n",
        "  # path to save logs\r\n",
        "  logdir=logdir,\r\n",
        "  num_epochs=num_epochs,\r\n",
        "  # save our best checkpoint by dice metric\r\n",
        "  main_metric=\"dice\",\r\n",
        "  # IoU needs to be maximized.\r\n",
        "  minimize_metric=True,\r\n",
        "  # for FP16. It uses the variable from the very first cell\r\n",
        "  fp16=fp16_params,\r\n",
        "  # prints train logs    \r\n",
        "  verbose=True,\r\n",
        "\r\n",
        ")"
      ],
      "execution_count": null,
      "outputs": [
        {
          "output_type": "stream",
          "text": [
            "1/20 * Epoch (train):  83% 116/140 [17:15<01:58,  4.96s/it, dice=0.121, iou=0.064, loss=1.899, loss_bce=0.105, loss_dice=0.879, loss_iou=0.936]"
          ],
          "name": "stdout"
        }
      ]
    },
    {
      "cell_type": "code",
      "metadata": {
        "id": "guudileYcPXG"
      },
      "source": [
        "# Catalyst\r\n",
        "!pip install catalyst==20.12\r\n",
        "\r\n",
        "# for augmentations\r\n",
        "!pip install albumentations==0.4.3\r\n",
        "\r\n",
        "# for pretrained segmentation models for PyTorch\r\n",
        "!pip install segmentation-models-pytorch==0.1.0\r\n",
        "\r\n",
        "# for TTA\r\n",
        "!pip install ttach==0.0.2\r\n",
        "\r\n",
        "# for tensorboard\r\n",
        "#!pip install tensorflow"
      ],
      "execution_count": null,
      "outputs": []
    },
    {
      "cell_type": "code",
      "metadata": {
        "id": "kg7XRNZk4iO_"
      },
      "source": [
        ""
      ],
      "execution_count": null,
      "outputs": []
    }
  ]
}